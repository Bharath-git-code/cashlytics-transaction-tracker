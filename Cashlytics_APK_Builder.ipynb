{
 "cells": [
  {
   "cell_type": "markdown",
   "id": "3b4141f3",
   "metadata": {},
   "source": [
    "# 📱 Cashlytics APK Builder\n",
    "## Build your Android APK in Google Colab!\n",
    "\n",
    "**Instructions:** Run each cell one by one (click ▶️ button)  \n",
    "**Time:** ~15-20 minutes total  \n",
    "**Result:** cashlytics.apk downloaded to your computer"
   ]
  },
  {
   "cell_type": "code",
   "execution_count": null,
   "id": "fd86f1f7",
   "metadata": {},
   "outputs": [],
   "source": [
    "print(\"🔄 Setting up build environment...\")\n",
    "\n",
    "# Install system dependencies\n",
    "!apt-get update -qq\n",
    "!apt-get install -y -qq openjdk-8-jdk git zip unzip autoconf libtool pkg-config zlib1g-dev libncurses5-dev libncursesw5-dev libtinfo5 cmake libffi-dev libssl-dev\n",
    "\n",
    "# Set Java 8\n",
    "import os\n",
    "os.environ['JAVA_HOME'] = '/usr/lib/jvm/java-8-openjdk-amd64'\n",
    "\n",
    "# Install Python tools\n",
    "!pip install -q cython==0.29.36 buildozer==1.5.0\n",
    "\n",
    "print(\"✅ Environment ready!\")"
   ]
  },
  {
   "cell_type": "code",
   "execution_count": null,
   "id": "251584ea",
   "metadata": {},
   "outputs": [],
   "source": [
    "print(\"📥 Downloading project...\")\n",
    "\n",
    "!git clone https://github.com/Bharath-git-code/cashlytics-transaction-tracker.git\n",
    "%cd cashlytics-transaction-tracker\n",
    "\n",
    "print(\"✅ Project downloaded!\")"
   ]
  },
  {
   "cell_type": "code",
   "execution_count": null,
   "id": "ba0cea5b",
   "metadata": {},
   "outputs": [],
   "source": [
    "print(\"🔧 Configuring Android...\")\n",
    "\n",
    "# Accept Android licenses\n",
    "!mkdir -p /root/.android/licenses\n",
    "!echo \"8933bad161af4178b1185d1a37fbf41ea5269c55\" > /root/.android/licenses/android-sdk-license\n",
    "!echo \"d56f5187479451eabf01fb78af6dfcb131a6481e\" >> /root/.android/licenses/android-sdk-license\n",
    "!echo \"24333f8a63b6825ea9c5514f83c2829b004d1fee\" >> /root/.android/licenses/android-sdk-license\n",
    "\n",
    "print(\"✅ Android configured!\")"
   ]
  },
  {
   "cell_type": "code",
   "execution_count": null,
   "id": "4365806e",
   "metadata": {},
   "outputs": [],
   "source": [
    "print(\"📋 Preparing build...\")\n",
    "\n",
    "# Use stable config\n",
    "!cp buildozer-stable.spec buildozer.spec\n",
    "!rm -rf .buildozer bin\n",
    "\n",
    "print(\"✅ Ready to build!\")"
   ]
  },
  {
   "cell_type": "code",
   "execution_count": null,
   "id": "5bb4ef91",
   "metadata": {},
   "outputs": [],
   "source": [
    "print(\"🚀 Building APK...\")\n",
    "print(\"⏰ This takes 10-15 minutes!\")\n",
    "\n",
    "import os\n",
    "os.environ['JAVA_HOME'] = '/usr/lib/jvm/java-8-openjdk-amd64'\n",
    "\n",
    "!buildozer android debug\n",
    "\n",
    "print(\"🎉 Build completed!\")"
   ]
  },
  {
   "cell_type": "code",
   "execution_count": null,
   "id": "a4b4e868",
   "metadata": {},
   "outputs": [],
   "source": [
    "print(\"📱 Finding and downloading APK...\")\n",
    "\n",
    "import os\n",
    "from google.colab import files\n",
    "\n",
    "# Find APK file\n",
    "for root, dirs, filenames in os.walk('.'):\n",
    "    for filename in filenames:\n",
    "        if filename.endswith('.apk'):\n",
    "            apk_path = os.path.join(root, filename)\n",
    "            print(f\"📱 Found: {filename}\")\n",
    "            \n",
    "            # Download APK\n",
    "            !cp \"{apk_path}\" \"cashlytics.apk\"\n",
    "            files.download(\"cashlytics.apk\")\n",
    "            \n",
    "            print(\"✅ APK downloaded to your computer!\")\n",
    "            break"
   ]
  }
 ],
 "metadata": {
  "language_info": {
   "name": "python"
  }
 },
 "nbformat": 4,
 "nbformat_minor": 5
}
